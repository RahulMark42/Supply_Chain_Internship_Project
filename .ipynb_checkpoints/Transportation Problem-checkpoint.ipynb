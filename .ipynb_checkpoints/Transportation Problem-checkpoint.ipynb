{
 "cells": [
  {
   "cell_type": "markdown",
   "id": "b2bcf3e2-6877-47c6-8275-d4b6a9802101",
   "metadata": {},
   "source": [
    "### Modelling a multi - echelon, multi - mode, multi - product, multi - period Supply Chain Transportation Problem considering stakeholder behaviourial tendencies "
   ]
  },
  {
   "cell_type": "code",
   "execution_count": 1,
   "id": "1049d341-fdba-4a28-9403-5901a7869b65",
   "metadata": {},
   "outputs": [],
   "source": [
    "#Compute Binary Variables X_ik_ft and Y_ik_ft \n",
    "\n",
    "def GenerateBinaryVariables(A_if_t, dis_ik, time_periods, product_types, manufacturers, distributors, ):\n",
    "    IC_if_t = []\n",
    "    c = 0\n",
    "    \n",
    "    "
   ]
  },
  {
   "cell_type": "code",
   "execution_count": null,
   "id": "901c0f3c-5170-4109-9500-8e704ea2db76",
   "metadata": {},
   "outputs": [],
   "source": []
  }
 ],
 "metadata": {
  "kernelspec": {
   "display_name": "Python 3",
   "language": "python",
   "name": "python3"
  },
  "language_info": {
   "codemirror_mode": {
    "name": "ipython",
    "version": 3
   },
   "file_extension": ".py",
   "mimetype": "text/x-python",
   "name": "python",
   "nbconvert_exporter": "python",
   "pygments_lexer": "ipython3",
   "version": "3.9.5"
  }
 },
 "nbformat": 4,
 "nbformat_minor": 5
}
