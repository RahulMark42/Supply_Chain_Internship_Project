{
 "cells": [
  {
   "cell_type": "code",
   "execution_count": 257,
   "id": "f96782dd-b139-491e-abd9-43cbfddbd531",
   "metadata": {},
   "outputs": [],
   "source": [
    "import numpy as np\n",
    "import pandas as pd\n",
    "from gurobipy import *"
   ]
  },
  {
   "cell_type": "code",
   "execution_count": 258,
   "id": "65ac6d16-76fd-46c7-b184-5f0b76d7dd31",
   "metadata": {},
   "outputs": [],
   "source": [
    "#Vogel Approximation Method (VAM) to determine basic feasible solution\n",
    "\n",
    "def VogelApproxMethod(supply, demand, transport_costs):\n",
    "    supply1 = supply\n",
    "    demand1 = demand\n",
    "    transport_costs = transport_costs\n",
    "    i = 0\n",
    "    j = 0\n",
    "    bfs = []\n",
    "    while len(bfs) < len(supply) + len(demand) - 1:\n",
    "        s = supply1[i]\n",
    "        d = demand1[j]\n",
    "        v = min(s, d)\n",
    "        supply1[i] -= v\n",
    "        demand1[j] -= v\n",
    "        bfs.append(((i, j), v))\n",
    "        if supply1[i] == 0 and i < len(supply) - 1:\n",
    "            i += 1\n",
    "        elif demand1[j] == 0 and j < len(demand) - 1:\n",
    "            j += 1\n",
    "    cost = 0\n",
    "    for item in bfs:\n",
    "        cost = cost + transport_costs[item[0][0]][item[0][1]]*item[1]\n",
    "    return bfs"
   ]
  },
  {
   "cell_type": "code",
   "execution_count": 259,
   "id": "e93f1ba2-ccb6-4aac-8b6d-372c053f7e1b",
   "metadata": {},
   "outputs": [],
   "source": [
    "#Helper Functions to determine optimum solution using Multiplier Method\n",
    "\n",
    "def FindUandV(bfs, costs):\n",
    "    u = [None] * len(costs)\n",
    "    v = [None] * len(costs[0])\n",
    "    u[0] = 0\n",
    "    bfs1 = bfs.copy()\n",
    "    while len(bfs1) > 0:\n",
    "        for index, bv in enumerate(bfs1):\n",
    "            i, j = bv[0]\n",
    "            if u[i] is None and v[j] is None: continue\n",
    "                \n",
    "            cost = costs[i][j]\n",
    "            if u[i] is None:\n",
    "                u[i] = cost - v[j]\n",
    "            else: \n",
    "                v[j] = cost - u[i]\n",
    "            bfs1.pop(index)\n",
    "            break\n",
    "            \n",
    "    return u, v\n",
    "\n",
    "def FindW(bfs, costs, u, v):\n",
    "    w = []\n",
    "    for i, row in enumerate(costs):\n",
    "        for j, cost in enumerate(row):\n",
    "            non_basic = all([p[0] != i or p[1] != j for p, v in bfs])\n",
    "            if non_basic:\n",
    "                w.append(((i, j), u[i] + v[j] - cost))\n",
    "    \n",
    "    return w\n",
    "\n",
    "def ImproveCheck(w):\n",
    "    for p, v in w:\n",
    "        if v > 0: return True\n",
    "    return False\n",
    "\n",
    "def FindEVPosition(w):\n",
    "    w1 = w.copy()\n",
    "    w1.sort(key=lambda w: w[1])\n",
    "    return w1[-1][0]\n",
    "\n",
    "def FindNextNode(loop, not_visited):\n",
    "    last_node = loop[-1]\n",
    "    nodes_in_row = [n for n in not_visited if n[0] == last_node[0]]\n",
    "    nodes_in_column = [n for n in not_visited if n[1] == last_node[1]]\n",
    "    if len(loop) < 2:\n",
    "        return nodes_in_row + nodes_in_column\n",
    "    else:\n",
    "        prev_node = loop[-2]\n",
    "        row_move = prev_node[0] == last_node[0]\n",
    "        if row_move: return nodes_in_column\n",
    "        return nodes_in_row\n",
    "    \n",
    "def FindLoop(bv_positions, ev_position):\n",
    "    def Inner(loop):\n",
    "        if len(loop) > 3:\n",
    "            can_be_closed = len(FindNextNode(loop, [ev_position])) == 1\n",
    "            if can_be_closed: return loop\n",
    "        \n",
    "        not_visited = list(set(bv_positions) - set(loop))\n",
    "        possible_next_nodes = FindNextNode(loop, not_visited)\n",
    "        for next_node in possible_next_nodes:\n",
    "            new_loop = Inner(loop + [next_node])\n",
    "            if new_loop: return new_loop\n",
    "    \n",
    "    return Inner([ev_position])\n",
    "\n",
    "def PivotLoop(bfs, loop):\n",
    "    even_cells = loop[0::2]\n",
    "    odd_cells = loop[1::2]\n",
    "    get_bv = lambda pos: next(v for p, v in bfs if p == pos)\n",
    "    leaving_position = sorted(odd_cells, key=get_bv)[0]\n",
    "    leaving_value = get_bv(leaving_position)\n",
    "    \n",
    "    new_bfs = []\n",
    "    for p, v in [bv for bv in bfs if bv[0] != leaving_position] + [(loop[0], 0)]:\n",
    "        if p in even_cells:\n",
    "            v += leaving_value\n",
    "        elif p in odd_cells:\n",
    "            v -= leaving_value\n",
    "        new_bfs.append((p, v))\n",
    "        \n",
    "    return new_bfs"
   ]
  },
  {
   "cell_type": "code",
   "execution_count": 260,
   "id": "bcda7fb7-9acc-41ee-a7d5-c3f6f6a12712",
   "metadata": {},
   "outputs": [],
   "source": [
    "#Recursively trying to find the optimum solution and the cost associated with it using Multiplier Method.\n",
    "\n",
    "def MatrixMethod(supply, demand, costs):\n",
    "    costs = costs.reshape(len(supply), len(demand)).tolist()\n",
    "\n",
    "    def GoInner(bfs):\n",
    "        u, v = FindUandV(bfs, costs)\n",
    "        w = FindW(bfs, costs, u, v)\n",
    "        if ImproveCheck(w):\n",
    "            ev_position = FindEVPosition(w)\n",
    "            loop = FindLoop([p for p, v in bfs], ev_position)\n",
    "            return GoInner(PivotLoop(bfs, loop))\n",
    "        return bfs\n",
    "    \n",
    "    basic_variables = GoInner(VogelApproxMethod(supply, demand, costs))\n",
    "    ans = np.zeros((len(costs), len(costs[0])))\n",
    "    for (i, j), v in basic_variables:\n",
    "        ans[i][j] = int(v)\n",
    "        \n",
    "    def FindTotalCost(costs, bfs):\n",
    "        total_cost = 0\n",
    "        for i, row in enumerate(costs):\n",
    "            for j, cost in enumerate(row):\n",
    "                total_cost += cost * bfs[i][j]\n",
    "        return total_cost     \n",
    "    return ans, FindTotalCost(costs, ans)"
   ]
  },
  {
   "cell_type": "code",
   "execution_count": 261,
   "id": "d223582f-fc5f-42d0-886f-c38f5171789e",
   "metadata": {},
   "outputs": [],
   "source": [
    "#Functions that generates balanced supply and demand with transport costs.\n",
    "\n",
    "def GenerateTransportCosts(n_supply, n_demand):\n",
    "    import numpy as np\n",
    "    return np.random.randint(1, 10, n_supply*n_demand)\n",
    "\n",
    "def RandomArrayWithConstSum(m, n):\n",
    "    arr = [0] * m;\n",
    "    for i in range(n) :\n",
    "        arr[np.random.randint(0, n) % m] += 1;\n",
    "    return np.asarray(arr)\n",
    "\n",
    "def GenerateSupplyAndDemand(n_supply, n_demand):\n",
    "    supply = np.random.randint(100, 300, n_supply)\n",
    "    demand = RandomArrayWithConstSum(n_demand, np.sum(supply))\n",
    "    return (supply, demand)"
   ]
  },
  {
   "cell_type": "code",
   "execution_count": 262,
   "id": "b6ac1698-6741-41ad-8e16-68913112f4b6",
   "metadata": {},
   "outputs": [],
   "source": [
    "def MultiProduct(n_products):\n",
    "    product_quantity = []\n",
    "    for i in range(n_products):\n",
    "        product_quantity.append(np.random.randint(1, 20))\n",
    "    return product_quantity"
   ]
  },
  {
   "cell_type": "code",
   "execution_count": 263,
   "id": "245f7093-308e-409d-8e94-1855fe129206",
   "metadata": {},
   "outputs": [
    {
     "data": {
      "text/plain": [
       "[1, 2, 6, 18, 14]"
      ]
     },
     "execution_count": 263,
     "metadata": {},
     "output_type": "execute_result"
    }
   ],
   "source": [
    "MultiProduct(5)"
   ]
  },
  {
   "cell_type": "code",
   "execution_count": 264,
   "id": "7366d1ed-bab3-4388-a822-564312c8185a",
   "metadata": {},
   "outputs": [],
   "source": [
    "#Function that calculates Total Supply Chain Trasnportation Cost \n",
    "\n",
    "def TotalBalancedSupplyChainTransportationCostEachProduct(product_qty, n_suppliers, n_plants, n_hubs, n_stockist, n_distributors):\n",
    "    \n",
    "    s4, d4 = GenerateSupplyAndDemand(n_stockist, n_distributors)\n",
    "    t4 = GenerateTransportCosts(n_stockist, n_distributors)\n",
    "    \n",
    "    s3, d3 = GenerateSupplyAndDemand(n_hubs, n_stockist)\n",
    "    t3 = GenerateTransportCosts(n_hubs, n_stockist)\n",
    "    \n",
    "    s2, d2 = GenerateSupplyAndDemand(n_plants, n_hubs)\n",
    "    t2 = GenerateTransportCosts(n_plants, n_hubs)\n",
    "    \n",
    "    s1, d1 = GenerateSupplyAndDemand(n_suppliers, n_plants)\n",
    "    t1 = GenerateTransportCosts(n_suppliers, n_plants)\n",
    "    \n",
    "    bfs4, cost4 = MatrixMethod(s4, d4, t4)\n",
    "    bfs3, cost3 = MatrixMethod(s3, d3, t3)\n",
    "    bfs2, cost2 = MatrixMethod(s2, d2, t2)\n",
    "    bfs1, cost1 = MatrixMethod(s1, d1, t1)\n",
    "    \n",
    "    return product_qty*(cost4 + cost3 + cost2 + cost1)"
   ]
  },
  {
   "cell_type": "code",
   "execution_count": 265,
   "id": "0eefbd22-4f4d-4841-b957-bbfd3b148efc",
   "metadata": {},
   "outputs": [],
   "source": [
    "results = []"
   ]
  },
  {
   "cell_type": "code",
   "execution_count": 266,
   "id": "0a710e5c-52fd-4bba-b04b-585b0efe46ab",
   "metadata": {},
   "outputs": [],
   "source": [
    "for i in range(15):\n",
    "    n_products = np.random.randint(1, 10)\n",
    "    n_stockist = np.random.randint(1, 10)\n",
    "    n_suppliers = np.random.randint(1, 10)\n",
    "    n_plants = np.random.randint(1, 10)\n",
    "    n_hubs = np.random.randint(1, 10)\n",
    "    n_distributors = np.random.randint(1, 10)\n",
    "    product_qty = MultiProduct(5)\n",
    "    result1 = []\n",
    "    total_cost = 0\n",
    "    for j in product_qty:\n",
    "        total_cost = total_cost + TotalBalancedSupplyChainTransportationCostEachProduct(j, n_suppliers, n_plants, n_hubs, n_stockist, n_distributors)"
   ]
  },
  {
   "cell_type": "code",
   "execution_count": 267,
   "id": "a7e61299-d011-4b74-a70d-9532a6d4e1e5",
   "metadata": {},
   "outputs": [],
   "source": [
    "results = pd.DataFrame(results)"
   ]
  },
  {
   "cell_type": "code",
   "execution_count": null,
   "id": "d96e8378-b82f-4d08-9f0a-5f0da0b7a487",
   "metadata": {},
   "outputs": [],
   "source": []
  },
  {
   "cell_type": "code",
   "execution_count": null,
   "id": "1fe53c91-3a5f-44d7-8622-303f08f06297",
   "metadata": {},
   "outputs": [],
   "source": [
    "#Vehicle Scheduling Problem"
   ]
  },
  {
   "cell_type": "code",
   "execution_count": 194,
   "id": "80584f39-f78b-40a7-9010-de1cbcaba823",
   "metadata": {},
   "outputs": [],
   "source": [
    "def MultiModeCostWeightsAndAvailability(n_modes):\n",
    "    capacity = []\n",
    "    mode_transport_costs = []\n",
    "    availability = []\n",
    "    for i in range (n_modes):\n",
    "        n_vehicles_each_mode = np.random.randint(1, 3)\n",
    "        cost_each_mode = [] \n",
    "        availability_each_mode = []\n",
    "        capacity_each_mode = []\n",
    "        for j in range(n_vehicles_each_mode):\n",
    "            cost_each_mode.append(np.random.randint(1, 10))\n",
    "            capacity_each_mode.append(np.random.randint(1, 5))\n",
    "            availability_each_mode.append(np.random.randint(5, 10))\n",
    "        mode_transport_costs.append(cost_each_mode)\n",
    "        capacity.append(capacity_each_mode)\n",
    "        availability.append(availability_each_mode)\n",
    "    return mode_transport_costs, capacity, availability"
   ]
  },
  {
   "cell_type": "code",
   "execution_count": 203,
   "id": "2b0d27c4-fa86-4ab8-ad80-82b7d864bc20",
   "metadata": {},
   "outputs": [],
   "source": [
    "def FindOptimumTranportCostPerLayer(mode_transport_costs, capacity, availability, weight_transported):\n",
    "    OptimizeModel = Model(\"OptimizeModel\")\n",
    "    OptimizeModel.setParam('OutputFlag', False )\n",
    "    count = 0\n",
    "    for i in range(len(mode_transport_costs)):\n",
    "        count = count + len(mode_transport_costs[i])\n",
    "\n",
    "    xs = []\n",
    "    for i in range (count):\n",
    "        xs.append(OptimizeModel.addVar(lb = 0, vtype = GRB.INTEGER, name = \"x\" + str(i)))\n",
    "\n",
    "    ys = []\n",
    "    for i in range(len(mode_transport_costs)):\n",
    "        for j in range(len(mode_transport_costs[i])):\n",
    "            ys.append(mode_transport_costs[i][j])\n",
    "\n",
    "    cost = 0\n",
    "    for i in range(len(ys)):\n",
    "        cost = cost + ys[i]*xs[i]\n",
    "\n",
    "    caps = []\n",
    "    for i in range(len(capacity)):\n",
    "        for j in range(len(capacity[i])):\n",
    "            caps.append(capacity[i][j])\n",
    "\n",
    "    weight = 0\n",
    "    for i in range(len(caps)):\n",
    "        weight = weight + caps[i]*xs[i]\n",
    "\n",
    "\n",
    "    avails = []\n",
    "    for i in range(len(availability)):\n",
    "        for j in range(len(availability[i])):\n",
    "            avails.append(availability[i][j])\n",
    "\n",
    "\n",
    "    for i in range(len(avails)):\n",
    "        OptimizeModel.addConstr(xs[i] <= avails[i])\n",
    "\n",
    "    OptimizeModel.addConstr(weight_transported <= weight)\n",
    "    OptimizeModel.setObjective(cost, GRB.MINIMIZE)\n",
    "    OptimizeModel.optimize()\n",
    "    \n",
    "    x_vals = []\n",
    "    for var in OptimizeModel.getVars():\n",
    "        x_vals.append([var.varName, ' = ', var.x])\n",
    "    obj_cost = OptimizeModel.objVal\n",
    "    return x_vals, obj_cost"
   ]
  },
  {
   "cell_type": "code",
   "execution_count": 223,
   "id": "87b7f771-b531-4df2-baf8-e188a2e8f0a5",
   "metadata": {},
   "outputs": [],
   "source": [
    "y,z,avail = MultiModeCostWeightsAndAvailability(4)"
   ]
  },
  {
   "cell_type": "code",
   "execution_count": 224,
   "id": "66b51316-3ecf-43ac-844c-c9121c8c9411",
   "metadata": {},
   "outputs": [],
   "source": [
    "vals, cost = FindOptimumTranportCostPerLayer(y, z, avail, 27)"
   ]
  },
  {
   "cell_type": "code",
   "execution_count": 225,
   "id": "8bc6e0fb-8c69-43f8-8c61-1df863845408",
   "metadata": {},
   "outputs": [
    {
     "data": {
      "text/plain": [
       "[['x0', ' = ', 2.0],\n",
       " ['x1', ' = ', 6.0],\n",
       " ['x2', ' = ', -0.0],\n",
       " ['x3', ' = ', -0.0],\n",
       " ['x4', ' = ', 3.0],\n",
       " ['x5', ' = ', 5.0],\n",
       " ['x6', ' = ', -0.0]]"
      ]
     },
     "execution_count": 225,
     "metadata": {},
     "output_type": "execute_result"
    }
   ],
   "source": [
    "vals"
   ]
  },
  {
   "cell_type": "code",
   "execution_count": 226,
   "id": "fd237234-aa1c-4605-a885-b64bf8dbca0a",
   "metadata": {},
   "outputs": [
    {
     "data": {
      "text/plain": [
       "38.0"
      ]
     },
     "execution_count": 226,
     "metadata": {},
     "output_type": "execute_result"
    }
   ],
   "source": [
    "cost"
   ]
  },
  {
   "cell_type": "code",
   "execution_count": 227,
   "id": "e944b84e-c58b-4575-8de6-c4f89da0b704",
   "metadata": {},
   "outputs": [
    {
     "data": {
      "text/plain": [
       "[[2, 1], [9, 7], [6], [2, 5]]"
      ]
     },
     "execution_count": 227,
     "metadata": {},
     "output_type": "execute_result"
    }
   ],
   "source": [
    "y"
   ]
  },
  {
   "cell_type": "code",
   "execution_count": null,
   "id": "f2acbc50-cfff-4669-9540-f6e15ebda122",
   "metadata": {},
   "outputs": [],
   "source": []
  }
 ],
 "metadata": {
  "kernelspec": {
   "display_name": "Python 3",
   "language": "python",
   "name": "python3"
  },
  "language_info": {
   "codemirror_mode": {
    "name": "ipython",
    "version": 3
   },
   "file_extension": ".py",
   "mimetype": "text/x-python",
   "name": "python",
   "nbconvert_exporter": "python",
   "pygments_lexer": "ipython3",
   "version": "3.9.5"
  }
 },
 "nbformat": 4,
 "nbformat_minor": 5
}
